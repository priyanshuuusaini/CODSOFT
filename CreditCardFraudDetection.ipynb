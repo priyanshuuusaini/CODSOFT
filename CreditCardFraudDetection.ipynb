{
  "nbformat": 4,
  "nbformat_minor": 0,
  "metadata": {
    "colab": {
      "provenance": [],
      "authorship_tag": "ABX9TyO1lNJGB6uNenSNb0iYikrr",
      "include_colab_link": true
    },
    "kernelspec": {
      "name": "python3",
      "display_name": "Python 3"
    },
    "language_info": {
      "name": "python"
    }
  },
  "cells": [
    {
      "cell_type": "markdown",
      "metadata": {
        "id": "view-in-github",
        "colab_type": "text"
      },
      "source": [
        "<a href=\"https://colab.research.google.com/github/priyanshuuusaini/CODSOFT/blob/main/CreditCardFraudDetection.ipynb\" target=\"_parent\"><img src=\"https://colab.research.google.com/assets/colab-badge.svg\" alt=\"Open In Colab\"/></a>"
      ]
    },
    {
      "cell_type": "markdown",
      "source": [
        "**Load and Explore the Datase**"
      ],
      "metadata": {
        "id": "BRLLv5xsXNKH"
      }
    },
    {
      "cell_type": "code",
      "execution_count": 1,
      "metadata": {
        "id": "EHIifmkPWmjn",
        "colab": {
          "base_uri": "https://localhost:8080/"
        },
        "outputId": "3b70362e-b6eb-42f8-aa66-8fdfdf79df1c"
      },
      "outputs": [
        {
          "output_type": "stream",
          "name": "stdout",
          "text": [
            "Class distribution:\n",
            " Class\n",
            "0    284315\n",
            "1       492\n",
            "Name: count, dtype: int64\n"
          ]
        }
      ],
      "source": [
        "import pandas as pd\n",
        "\n",
        "# Load the dataset\n",
        "data = pd.read_csv(\"creditcard.csv\")\n",
        "# Display class distribution\n",
        "print(\"Class distribution:\\n\", data['Class'].value_counts())"
      ]
    },
    {
      "cell_type": "markdown",
      "source": [
        "**Preprocess and Normaliz Data**"
      ],
      "metadata": {
        "id": "2X4kzF81ZEkj"
      }
    },
    {
      "cell_type": "code",
      "source": [
        "from sklearn.preprocessing import StandardScaler\n",
        "data['Amount'] = StandardScaler().fit_transform(data['Amount'].values.reshape(-1, 1))\n",
        "# Check if 'Time' column exists before dropping\n",
        "if 'Time' in data.columns:\n",
        "    data.drop(columns=['Time'], inplace=True)"
      ],
      "metadata": {
        "id": "m4SNKq9wZP1z"
      },
      "execution_count": 2,
      "outputs": []
    },
    {
      "cell_type": "markdown",
      "source": [
        "**Handle Class Imbalance**"
      ],
      "metadata": {
        "id": "N-dT1R33bDXG"
      }
    },
    {
      "cell_type": "code",
      "source": [
        "from imblearn.over_sampling import SMOTE\n",
        "# Drop rows with NaN in the 'Class' column\n",
        "data.dropna(subset=['Class'], inplace=True)\n",
        "X = data.drop('Class', axis=1)\n",
        "y = data['Class']\n",
        "smote = SMOTE(random_state=42)\n",
        "X_balanced, y_balanced = smote.fit_resample(X, y)"
      ],
      "metadata": {
        "id": "Id1Vh_IHbW6p"
      },
      "execution_count": 3,
      "outputs": []
    },
    {
      "cell_type": "markdown",
      "source": [
        "**Train-Test Split**"
      ],
      "metadata": {
        "id": "NylGFRofbuIq"
      }
    },
    {
      "cell_type": "code",
      "source": [
        "from sklearn.model_selection import train_test_split\n",
        "X_train, X_test, y_train, y_test = train_test_split(X_balanced, y_balanced, test_size=0.3, random_state=42)"
      ],
      "metadata": {
        "id": "VjyFSlODcIJa"
      },
      "execution_count": 4,
      "outputs": []
    },
    {
      "cell_type": "markdown",
      "source": [
        "**Train** **Model**"
      ],
      "metadata": {
        "id": "pVmznJuccbLQ"
      }
    },
    {
      "cell_type": "code",
      "source": [
        "from sklearn.linear_model import LogisticRegression\n",
        "from sklearn.ensemble import RandomForestClassifier\n",
        "\n",
        "# Initialize models\n",
        "logistic_model = LogisticRegression(max_iter=1000, random_state=42)\n",
        "forest_model = RandomForestClassifier(n_estimators=100, random_state=42)\n",
        "\n",
        "# Train models\n",
        "logistic_model.fit(X_train, y_train)\n",
        "forest_model.fit(X_train, y_train)"
      ],
      "metadata": {
        "id": "ZciCd88RcqKP"
      },
      "execution_count": null,
      "outputs": []
    }
  ]
}